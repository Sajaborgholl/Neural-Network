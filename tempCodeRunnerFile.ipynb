
        X_val=X_val,
        y_val=y_val,
        num_epochs=200,          # Specify num_epochs as a keyword argument
        learning_rate=0.001      # Specify learning_rate as a keyword argument
    )
    
    # Evaluate the model on the validation set for the current fold
    fold_accuracy = evaluate_model(trained_model, X_val, y_val)
    fold_accuracies.append(fold_accuracy)
    print(f"Accuracy for fold {fold + 1}: {fold_accuracy * 100:.2f}%\n")

# Calculate average accuracy across all folds
average_accuracy = np.mean(fold_accuracies)
print(f"Average Accuracy across {k_folds} folds: {